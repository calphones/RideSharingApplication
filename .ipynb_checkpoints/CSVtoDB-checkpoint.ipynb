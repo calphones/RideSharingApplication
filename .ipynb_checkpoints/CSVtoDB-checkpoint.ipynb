{
 "cells": [
  {
   "cell_type": "code",
   "execution_count": null,
   "metadata": {},
   "outputs": [],
   "source": [
    "import random\n",
    "import csv\n",
    "import pymysql.cursors\n",
    "import datetime\n",
    "database = pymysql.connect (host=\"localhost\", user = \"user\", passwd = \"password\", db = \"rideshare\")"
   ]
  },
  {
   "cell_type": "code",
   "execution_count": null,
   "metadata": {},
   "outputs": [],
   "source": [
    "# to insert values into parent-table with customer id from 1 to 5000 with random social score values.\n",
    "\n",
    "cursor = database.cursor()\n",
    "str(round(random.uniform(0.5, 5.0),2))\n",
    "query = \"\"\"INSERT INTO customer_table (user_rating) VALUES (%s)\"\"\"\n",
    "for i in range(1,5001):\n",
    "    cursor.execute(query, str(round(random.uniform(0.5, 5.0),2)))\n",
    "cursor.close()\n",
    "database.commit()"
   ]
  },
  {
   "cell_type": "code",
   "execution_count": null,
   "metadata": {
    "scrolled": true
   },
   "outputs": [],
   "source": [
    "# to insert values into child-table, from the data fetched from CSV.\n",
    "\n",
    "cursor = database.cursor()\n",
    "query = \"\"\"INSERT INTO taxi_data (customer_id,ptime,pdate,dtime,ddate,pcount,tripDistance,plongitude,platitude,dlongitude,dlatitude,fare) VALUES (%s, %s, %s, %s, %s, %s, %s, %s, %s, %s, %s, %s)\"\"\"\n",
    "flag = False;\n",
    "with open('/users/tinesh/Downloads/yellow_tripdata_2016-02.csv') as csvfile:\n",
    "    readCSV = csv.reader(csvfile, delimiter=',')\n",
    "    next(readCSV)\n",
    "    c_flag = True\n",
    "    for row in readCSV:\n",
    "        if (float(row[5]) < -73.9650 and float(row[5]) >-73.9850):\n",
    "            if(float(row[6])> 40.6725) and (float(row[6])<40.6925):\n",
    "                #if(float(row[9]) > 0.0 and float(row[10]))\n",
    "                pd,pt = row[1].split(\" \")\n",
    "                dd,dt = row[2].split(\" \")\n",
    "                c_id = random.randint(1,5000)\n",
    "                c_id = random.randint(1,5000)\n",
    "                c_query = \"\"\"SELECT DATE_ADD(ddate, INTERVAL (TIME_TO_SEC(dtime)+((time_to_sec(dtime)-time_to_sec(ptime)) * 2)) second) as ntime from taxi_data where customer_id = %s and pdate = %s order by ddate,dtime desc\"\"\"\n",
    "                c_values = (c_id,pd)\n",
    "                cursor.execute(c_query,c_values)\n",
    "                c_data = cursor.fetchone()\n",
    "                if (c_data is not None):\n",
    "                    tdy = datetime.datetime.strptime(dd , '%Y-%m-%d')\n",
    "                    tdt = datetime.datetime.strptime(dt, '%H:%M:%S').time()\n",
    "                    tdyt = datetime.datetime.combine(tdy,tdt)\n",
    "                    if(c_data[0] < tdyt ):\n",
    "                        c_flag = False;\n",
    "                values = (c_id,pt,pd,dt,dd,row[3],row[4],row[5],row[6],row[9],row[10],row[18])\n",
    "                cursor.execute(query, values)                    \n",
    "                c_flag = True                \n",
    "cursor.close()\n",
    "database.commit()"
   ]
  },
  {
   "cell_type": "code",
   "execution_count": null,
   "metadata": {},
   "outputs": [],
   "source": [
    "cursor = database.cursor()\n",
    "c_query = \"\"\"SELECT distinct(customer_id) from taxi_data\"\"\"\n",
    "cursor.execute(c_query)\n",
    "c_rows = cursor.fetchall()\n",
    "for row in c_rows:\n",
    "    c_bi_query = \"\"\"SELECT distinct(trip_id) from taxi_data where customer_id = %s\"\"\"\n",
    "    cp_query = \"\"\"INSERT INTO customer_preference(customer_id,booking_id,delay,save_money_yn,save_time_yn) VALUES(%s,%s,%s,%s,%s)\"\"\"\n",
    "    cursor.execute(c_bi_query,row[0])\n",
    "    c_bi_ids = cursor.fetchall()    \n",
    "    for c_bi_id in c_bi_ids:\n",
    "        save_time_yn = 'Y' if round(random.uniform(0,1)) == 0 else 'N'\n",
    "        delay=0\n",
    "        save_money_yn = 'N'\n",
    "        if( save_time_yn == 'N'):\n",
    "            delay = round(random.uniform(0,5))\n",
    "            save_money_yn = 'Y'\n",
    "        values = (row[0],c_bi_id,delay,save_money_yn,save_time_yn)\n",
    "        cursor.execute(cp_query,values)\n",
    "\n",
    "cursor.close()\n",
    "database.commit()\n",
    "database.close()"
   ]
  },
  {
   "cell_type": "code",
   "execution_count": null,
   "metadata": {},
   "outputs": [],
   "source": []
  }
 ],
 "metadata": {
  "kernelspec": {
   "display_name": "Python 3",
   "language": "python",
   "name": "python3"
  },
  "language_info": {
   "codemirror_mode": {
    "name": "ipython",
    "version": 3
   },
   "file_extension": ".py",
   "mimetype": "text/x-python",
   "name": "python",
   "nbconvert_exporter": "python",
   "pygments_lexer": "ipython3",
   "version": "3.6.4"
  }
 },
 "nbformat": 4,
 "nbformat_minor": 2
}
